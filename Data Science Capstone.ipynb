{
    "cells": [
        {
            "cell_type": "markdown",
            "metadata": {
                "collapsed": true
            },
            "source": "# Data Science with Python Capstone Notebook\n<p>This notebook will be used for my data science capstone project. Let's see what we have in store!</p>"
        },
        {
            "cell_type": "code",
            "execution_count": 3,
            "metadata": {},
            "outputs": [
                {
                    "name": "stdout",
                    "output_type": "stream",
                    "text": "Hello Capstone Project Course!\n"
                }
            ],
            "source": "import pandas as pd\nimport numpy as np\nprint('Hello Capstone Project Course!')"
        },
        {
            "cell_type": "markdown",
            "metadata": {},
            "source": "## Introduction\n\n#### Background\nEven with the widespread use of majorly accessible streaming options in the digital age, the vast majority of artists make the largest percent of their income through live shows. A [study](https://papers.ssrn.com/sol3/papers.cfm?abstract_id=2199058) out of the Northwestern University School of Law published in the Arizona Law Review in 2013 shows that 28% of the respondent artists' income came from Touring/shows/live performance fees. The next highest chunk came from Teaching, which accounted for 22% of their income. With this being a given, it is vitally important that artists select the proper venues when planning a tour to maximize profit and minimize waste due to travel expenses.\n\n#### Problem\nThe data most important for figuring this out would be the popularity of a given genre, in this case Jazz, in any given region; the availability of venues to support the artists' shows in these regions; the venues overall ratings to maximize crowd turnout and enjoyment; and the locality of the top venues together to minimize travel costs across the length of the tour\n\n#### Interest\nWhile this particular analysis will focus on Jazz as the genre, the general methods and analysis would be of interest to any artist with a limited budget, seeking to maximize their revenue on a short tour. Assuming these are smaller artists whose main income is music, the minimization of travel costs and maximization of attendance are of utmost importance to ensuring their ability to continue creating and playing for their current fans. They will also need to ensure they tour in areas with sufficient interest in the genre overall so that they can gain new consumers."
        },
        {
            "cell_type": "markdown",
            "metadata": {},
            "source": "## Data\n\nFor the main data source, I will be using the Four Square API to search for venues in the Music Venue category with a sub-category of Jazz Club. In order to find the regions with the most interest in the Jazz genre, I will be pulling the Google Trends results for the searches [\"Jazz\"](https://trends.google.com/trends/explore?geo=US&q=jazz) and [\"Jazz Club\"](https://trends.google.com/trends/explore?geo=US&q=jazz%20club) by US State. Combining these two trends results gives a list of the states with the highest to least jazz popularity\n"
        }
    ],
    "metadata": {
        "kernelspec": {
            "display_name": "Python 3.7",
            "language": "python",
            "name": "python3"
        },
        "language_info": {
            "codemirror_mode": {
                "name": "ipython",
                "version": 3
            },
            "file_extension": ".py",
            "mimetype": "text/x-python",
            "name": "python",
            "nbconvert_exporter": "python",
            "pygments_lexer": "ipython3",
            "version": "3.7.10"
        }
    },
    "nbformat": 4,
    "nbformat_minor": 1
}