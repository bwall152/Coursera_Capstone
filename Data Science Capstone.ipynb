{
    "cells": [
        {
            "cell_type": "markdown",
            "metadata": {
                "collapsed": true
            },
            "source": "# Data Science with Python Capstone Notebook\n<p>This notebook will be used for my data science capstone project. Let's see what we have in store!</p>"
        },
        {
            "cell_type": "code",
            "execution_count": 2,
            "metadata": {},
            "outputs": [
                {
                    "name": "stdout",
                    "output_type": "stream",
                    "text": "Hello Capstone Project Course!\n"
                }
            ],
            "source": "import pandas as pd\nimport numpy as np\nprint('Hello Capstone Project Course!')"
        },
        {
            "cell_type": "markdown",
            "metadata": {},
            "source": "## Introduction\n\n#### Background\nEven with the widespread use of majorly accessible streaming options in the digital age, the vast majority of artists make the largest percent of their income through live shows. A [study](https://papers.ssrn.com/sol3/papers.cfm?abstract_id=2199058) out of the Northwestern University School of Law published in the Arizona Law Review in 2013 shows that 28% of the respondent artists' income came from Touring/shows/live performance fees. The next highest chunk came from Teaching, which accounted for 22% of their income. With this being a given, it is vitally important that artists select the proper venues when planning a tour to maximize profit and minimize waste due to travel expenses.\n\n#### Problem\nThe data most important for figuring this out would be the popularity of a given genre, in this case Jazz, in any given region; the availability of venues to support the artists' shows in these regions; the venues overall ratings to maximize crowd turnout and enjoyment; and the locality of the top venues together to minimize travel costs across the length of the tour\n\n#### Interest\nWhile this particular analysis will focus on Jazz as the genre, the general methods and analysis would be of interest to any artist with a limited budget, seeking to maximize their revenue on a short tour. Assuming these are smaller artists whose main income is music, the minimization of travel costs and maximization of attendance are of utmost importance to ensuring their ability to continue creating and playing for their current fans. They will also need to ensure they tour in areas with sufficient interest in the genre overall so that they can gain new consumers."
        },
        {
            "cell_type": "markdown",
            "metadata": {},
            "source": "## Data\n\nFor the main data source, I will be using the Four Square API to search for venues in the Music Venue category with a sub-category of Jazz Club. In order to find the regions with the most interest in the Jazz genre, I will be pulling the Google Trends results for the searches [\"Jazz\"](https://trends.google.com/trends/explore?geo=US&q=jazz) and [\"Jazz Club\"](https://trends.google.com/trends/explore?geo=US&q=jazz%20club) by US State. Combining these two trends results gives a list of the states with the highest to least jazz popularity. \n\nUsing these two subsets of Data we should be able to tell which venues in which states the artist should schedule on their tour to maximise their earnings. For example, we can see from the Google Trends ranking of \"Jazz Club\" that Utah has the highest search frequency in the US. Utilizing the Foursquare API, we can check for venues in Utah with the \"Jazz Club\" category ID. Searching near Salt Lake City, we get results looking like this:\n\n'venues': [{'id': '4ad4f28ef964a5201ffd20e3',\n    'name': \"Junior's Tavern\",\n    'location': {'address': '30 E Broadway',\n     'crossStreet': 'at S Main St',\n     'lat': 40.76265,\n     'lng': -111.889918,\n     'labeledLatLngs': [{'label': 'display',\n       'lat': 40.76265,\n       'lng': -111.889918}],\n     'distance': 377,\n     'postalCode': '84111',\n     'cc': 'US',\n     'city': 'Salt Lake City',\n     'state': 'UT',\n     'country': 'United States',\n     'formattedAddress': ['30 E Broadway (at S Main St)',\n      'Salt Lake City, UT 84111',\n      'United States']}\n      \n      \nWe can take the venue id from the results and run that against the API again to get the venue ratings: \n\n'likes': {'count': 18,\n  'groups': [{'type': 'others', 'count': 18, 'items': []}],\n  'summary': '18 Likes'},\n 'dislike': False,\n 'ok': False,\n 'rating': 7.0\n\nWe can see that this club has 18  likes with an average rating of 7/10. Stacking up the various clubs returned will give us a better picture of which venues to book for the client in order to optimize their schedule."
        },
        {
            "cell_type": "code",
            "execution_count": null,
            "metadata": {},
            "outputs": [],
            "source": ""
        }
    ],
    "metadata": {
        "kernelspec": {
            "display_name": "Python 3.7",
            "language": "python",
            "name": "python3"
        },
        "language_info": {
            "codemirror_mode": {
                "name": "ipython",
                "version": 3
            },
            "file_extension": ".py",
            "mimetype": "text/x-python",
            "name": "python",
            "nbconvert_exporter": "python",
            "pygments_lexer": "ipython3",
            "version": "3.7.10"
        }
    },
    "nbformat": 4,
    "nbformat_minor": 1
}